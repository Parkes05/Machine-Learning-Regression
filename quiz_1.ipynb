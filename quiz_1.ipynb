{
  "nbformat": 4,
  "nbformat_minor": 0,
  "metadata": {
    "colab": {
      "provenance": []
    },
    "kernelspec": {
      "name": "python3",
      "display_name": "Python 3"
    },
    "language_info": {
      "name": "python"
    }
  },
  "cells": [
    {
      "cell_type": "code",
      "source": [
        "import pandas as pd\n",
        "import numpy as np\n",
        "from sklearn.model_selection import train_test_split\n",
        "from sklearn.linear_model import Ridge, Lasso, LinearRegression\n",
        "from sklearn.preprocessing import MinMaxScaler\n",
        "from sklearn.metrics import mean_squared_error, mean_absolute_error"
      ],
      "metadata": {
        "id": "_kBJkabj0lNx"
      },
      "execution_count": 84,
      "outputs": []
    },
    {
      "cell_type": "code",
      "source": [
        "data = pd.read_csv('energydata_complete.csv')"
      ],
      "metadata": {
        "id": "9v6Y33gP1DVx"
      },
      "execution_count": 12,
      "outputs": []
    },
    {
      "cell_type": "code",
      "source": [
        "# From the dataset, fit a linear model on the relationship between the temperature\n",
        "# in the living room in Celsius (x = T2) and the temperature outside the building (y = T6).\n",
        "# What is the Root Mean Squared error in three D.P?\n",
        "x = data[['T2']]\n",
        "y = data['T6']\n",
        "x_train, x_test, y_train, y_test = train_test_split(x, y, test_size=0.2, random_state=2)\n",
        "model = LinearRegression()\n",
        "model.fit(x_train, y_train)\n",
        "y_pred = model.predict(x_test)\n",
        "mse = mean_squared_error(y_test, y_pred)\n",
        "rmse = np.sqrt(mse)\n",
        "print(rmse.round(3))"
      ],
      "metadata": {
        "colab": {
          "base_uri": "https://localhost:8080/"
        },
        "id": "fBIQKutz73xj",
        "outputId": "68dc69a0-fba4-4a4b-b788-0a5b9b931e57"
      },
      "execution_count": 97,
      "outputs": [
        {
          "output_type": "stream",
          "name": "stdout",
          "text": [
            "3.646\n"
          ]
        }
      ]
    },
    {
      "cell_type": "code",
      "source": [
        "# Remove the following columns: [“date”, “lights”]. The target variable is “Appliances”.\n",
        "# Use a 70-30 train-test set split with a  random state of 42 (for reproducibility).\n",
        "# Normalize the dataset using the MinMaxScaler (Hint: Use the MinMaxScaler fit_transform and\n",
        "# transform methods on the train and test set respectively). Run a multiple linear regression\n",
        "# using the training set. Answer the following questions:\n",
        "x = data.drop(columns = ['date', 'lights', 'Appliances'])\n",
        "y = data['Appliances']\n",
        "x_train, x_test, y_train, y_test = train_test_split(x, y, test_size=0.3, random_state=42)\n",
        "\n",
        "scaler = MinMaxScaler()\n",
        "scaled_x_train = scaler.fit_transform(x_train)\n",
        "scaled_x_test = scaler.transform(x_test)\n",
        "\n",
        "model = LinearRegression()\n",
        "model.fit(scaled_x_train, y_train)\n",
        "y_pred = model.predict(scaled_x_train)"
      ],
      "metadata": {
        "id": "S1aIep6H9Rn5"
      },
      "execution_count": 134,
      "outputs": []
    },
    {
      "cell_type": "code",
      "source": [
        "# What is the Mean Absolute Error (in three decimal places) for the  training set?\n",
        "mae_train = mean_absolute_error(y_train, y_pred)\n",
        "print(mae_train.round(3))"
      ],
      "metadata": {
        "colab": {
          "base_uri": "https://localhost:8080/"
        },
        "id": "LoJXUxcsOucF",
        "outputId": "a25207ff-b196-456c-ca82-783fe3049e08"
      },
      "execution_count": 135,
      "outputs": [
        {
          "output_type": "stream",
          "name": "stdout",
          "text": [
            "53.742\n"
          ]
        }
      ]
    },
    {
      "cell_type": "code",
      "source": [
        "# What is the Root Mean Squared Error (in three decimal places) for the training set?\n",
        "mse_train = mean_squared_error(y_train, y_pred)\n",
        "rmse_train = np.sqrt(mse_train)\n",
        "print(rmse_train.round(3))"
      ],
      "metadata": {
        "colab": {
          "base_uri": "https://localhost:8080/"
        },
        "id": "ugsW6o2eOvQk",
        "outputId": "aa82794e-9646-46cc-d83f-a694a6f8592c"
      },
      "execution_count": 136,
      "outputs": [
        {
          "output_type": "stream",
          "name": "stdout",
          "text": [
            "95.216\n"
          ]
        }
      ]
    },
    {
      "cell_type": "code",
      "source": [
        "# What is the Mean Absolute Error (in three decimal places) for test set?\n",
        "y_pred = model.predict(scaled_x_test)\n",
        "mae_test = mean_absolute_error(y_test, y_pred)\n",
        "print(mae_test.round(3))"
      ],
      "metadata": {
        "colab": {
          "base_uri": "https://localhost:8080/"
        },
        "id": "S-YaCA27Ox67",
        "outputId": "a5cebe05-5db9-4730-aeba-e38a2f0e42cd"
      },
      "execution_count": 137,
      "outputs": [
        {
          "output_type": "stream",
          "name": "stdout",
          "text": [
            "53.643\n"
          ]
        }
      ]
    },
    {
      "cell_type": "code",
      "source": [
        "# What is the Root Mean Squared Error (in three decimal places) for test set?\n",
        "mse_test = mean_squared_error(y_test, y_pred)\n",
        "rmse_test = np.sqrt(mse_test)\n",
        "print(rmse_test.round(3))"
      ],
      "metadata": {
        "colab": {
          "base_uri": "https://localhost:8080/"
        },
        "id": "XuDagpWzPCo7",
        "outputId": "d1a49c88-e78f-45e3-a8a4-469d923a2536"
      },
      "execution_count": 138,
      "outputs": [
        {
          "output_type": "stream",
          "name": "stdout",
          "text": [
            "93.64\n"
          ]
        }
      ]
    },
    {
      "cell_type": "code",
      "source": [
        "# Did the Model above overfit to the training set\n",
        "diff_mae = mae_train - mae_test\n",
        "print(diff_mae.round(3))\n",
        "# Ans: No"
      ],
      "metadata": {
        "colab": {
          "base_uri": "https://localhost:8080/"
        },
        "id": "duUW6M_SS-3I",
        "outputId": "da34acfe-ed02-48aa-859d-1fd25240dc2e"
      },
      "execution_count": 139,
      "outputs": [
        {
          "output_type": "stream",
          "name": "stdout",
          "text": [
            "0.099\n"
          ]
        }
      ]
    },
    {
      "cell_type": "code",
      "source": [
        "# Train a ridge regression model with default parameters.\n",
        "# Is there any change to the root mean squared error (RMSE) when evaluated on the test set?\n",
        "ridge = Ridge()\n",
        "ridge.fit(scaled_x_train, y_train)\n",
        "y_pred = ridge.predict(scaled_x_test)\n",
        "mse = mean_squared_error(y_test, y_pred)\n",
        "rmse = np.sqrt(mse)\n",
        "print(rmse.round(3))\n",
        "print(rmse - rmse_test)\n",
        "# Ans: Yes"
      ],
      "metadata": {
        "colab": {
          "base_uri": "https://localhost:8080/"
        },
        "id": "hp5QX4GcTwTf",
        "outputId": "42e2c0e0-654d-4dc9-93cf-c7c21962d819"
      },
      "execution_count": 140,
      "outputs": [
        {
          "output_type": "stream",
          "name": "stdout",
          "text": [
            "93.709\n",
            "0.06831383643981326\n"
          ]
        }
      ]
    },
    {
      "cell_type": "code",
      "source": [
        "# Train a lasso regression model with default value and obtain the new feature weights with it.\n",
        "# How many of the features have non-zero feature weights?\n",
        "lasso_reg = Lasso()\n",
        "lasso_reg.fit(scaled_x_train, y_train)\n",
        "y_pred = lasso_reg.predict(scaled_x_test)\n",
        "\n",
        "weights = pd.Series(data=lasso_reg.coef_, index=x_train.columns)\n",
        "weights_df = pd.DataFrame(weights).reset_index()\n",
        "weights_df.columns = ['Features', 'Lasso Regression']\n",
        "weights_df['Lasso Regression'] = round(weights_df['Lasso Regression'], 3)\n",
        "print(weights_df.groupby('Lasso Regression').count())"
      ],
      "metadata": {
        "colab": {
          "base_uri": "https://localhost:8080/"
        },
        "id": "snCS0GPuVRJ2",
        "outputId": "a1cf3379-c165-4d2d-85ba-c44c0e462a62"
      },
      "execution_count": 148,
      "outputs": [
        {
          "output_type": "stream",
          "name": "stdout",
          "text": [
            "                  Features\n",
            "Lasso Regression          \n",
            "-50.294                  1\n",
            "-26.103                  1\n",
            " 0.000                  22\n",
            " 5.143                   1\n",
            " 56.945                  1\n"
          ]
        }
      ]
    },
    {
      "cell_type": "code",
      "source": [
        "mse = mean_squared_error(y_test, y_pred)\n",
        "rmse = np.sqrt(mse)\n",
        "print(rmse.round(3))"
      ],
      "metadata": {
        "colab": {
          "base_uri": "https://localhost:8080/"
        },
        "id": "mh_Toox1XO-M",
        "outputId": "b980d51e-b05d-4390-819d-2c1e49bbb014"
      },
      "execution_count": 149,
      "outputs": [
        {
          "output_type": "stream",
          "name": "stdout",
          "text": [
            "99.424\n"
          ]
        }
      ]
    }
  ]
}